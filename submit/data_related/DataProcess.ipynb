{
 "cells": [
  {
   "cell_type": "markdown",
   "metadata": {},
   "source": [
    "国赛数据集处理：\n"
   ]
  },
  {
   "cell_type": "markdown",
   "metadata": {},
   "source": [
    "    训练数据集:(3d)"
   ]
  },
  {
   "cell_type": "code",
   "execution_count": 1,
   "metadata": {},
   "outputs": [
    {
     "name": "stdout",
     "output_type": "stream",
     "text": [
      "(16724, 2, 300, 17, 3)\n",
      "(16724,)\n"
     ]
    },
    {
     "ename": "FileNotFoundError",
     "evalue": "[Errno 2] No such file or directory: 'train/train_joint.npz'",
     "output_type": "error",
     "traceback": [
      "\u001b[1;31m---------------------------------------------------------------------------\u001b[0m",
      "\u001b[1;31mFileNotFoundError\u001b[0m                         Traceback (most recent call last)",
      "Cell \u001b[1;32mIn[1], line 28\u001b[0m\n\u001b[0;32m     26\u001b[0m \u001b[38;5;28mprint\u001b[39m(y_train\u001b[38;5;241m.\u001b[39mshape)\n\u001b[0;32m     27\u001b[0m \u001b[38;5;66;03m# 保存为 .npz 文件\u001b[39;00m\n\u001b[1;32m---> 28\u001b[0m \u001b[43mnp\u001b[49m\u001b[38;5;241;43m.\u001b[39;49m\u001b[43msavez\u001b[49m\u001b[43m(\u001b[49m\u001b[38;5;124;43m'\u001b[39;49m\u001b[38;5;124;43mtrain/train_joint.npz\u001b[39;49m\u001b[38;5;124;43m'\u001b[39;49m\u001b[43m,\u001b[49m\u001b[43m \u001b[49m\u001b[43mx_train\u001b[49m\u001b[38;5;241;43m=\u001b[39;49m\u001b[43mtrain_joint\u001b[49m\u001b[43m,\u001b[49m\u001b[43m \u001b[49m\u001b[43my_train\u001b[49m\u001b[38;5;241;43m=\u001b[39;49m\u001b[43my_train\u001b[49m\u001b[43m)\u001b[49m\n\u001b[0;32m     30\u001b[0m \u001b[38;5;28mprint\u001b[39m(\u001b[38;5;124m\"\u001b[39m\u001b[38;5;124mtrain_joint.npz 文件已保存\u001b[39m\u001b[38;5;124m\"\u001b[39m)\n",
      "File \u001b[1;32m<__array_function__ internals>:180\u001b[0m, in \u001b[0;36msavez\u001b[1;34m(*args, **kwargs)\u001b[0m\n",
      "File \u001b[1;32md:\\anaconda3\\envs\\test\\lib\\site-packages\\numpy\\lib\\npyio.py:612\u001b[0m, in \u001b[0;36msavez\u001b[1;34m(file, *args, **kwds)\u001b[0m\n\u001b[0;32m    528\u001b[0m \u001b[38;5;129m@array_function_dispatch\u001b[39m(_savez_dispatcher)\n\u001b[0;32m    529\u001b[0m \u001b[38;5;28;01mdef\u001b[39;00m \u001b[38;5;21msavez\u001b[39m(file, \u001b[38;5;241m*\u001b[39margs, \u001b[38;5;241m*\u001b[39m\u001b[38;5;241m*\u001b[39mkwds):\n\u001b[0;32m    530\u001b[0m \u001b[38;5;250m    \u001b[39m\u001b[38;5;124;03m\"\"\"Save several arrays into a single file in uncompressed ``.npz`` format.\u001b[39;00m\n\u001b[0;32m    531\u001b[0m \n\u001b[0;32m    532\u001b[0m \u001b[38;5;124;03m    Provide arrays as keyword arguments to store them under the\u001b[39;00m\n\u001b[1;32m   (...)\u001b[0m\n\u001b[0;32m    610\u001b[0m \n\u001b[0;32m    611\u001b[0m \u001b[38;5;124;03m    \"\"\"\u001b[39;00m\n\u001b[1;32m--> 612\u001b[0m     \u001b[43m_savez\u001b[49m\u001b[43m(\u001b[49m\u001b[43mfile\u001b[49m\u001b[43m,\u001b[49m\u001b[43m \u001b[49m\u001b[43margs\u001b[49m\u001b[43m,\u001b[49m\u001b[43m \u001b[49m\u001b[43mkwds\u001b[49m\u001b[43m,\u001b[49m\u001b[43m \u001b[49m\u001b[38;5;28;43;01mFalse\u001b[39;49;00m\u001b[43m)\u001b[49m\n",
      "File \u001b[1;32md:\\anaconda3\\envs\\test\\lib\\site-packages\\numpy\\lib\\npyio.py:709\u001b[0m, in \u001b[0;36m_savez\u001b[1;34m(file, args, kwds, compress, allow_pickle, pickle_kwargs)\u001b[0m\n\u001b[0;32m    706\u001b[0m \u001b[38;5;28;01melse\u001b[39;00m:\n\u001b[0;32m    707\u001b[0m     compression \u001b[38;5;241m=\u001b[39m zipfile\u001b[38;5;241m.\u001b[39mZIP_STORED\n\u001b[1;32m--> 709\u001b[0m zipf \u001b[38;5;241m=\u001b[39m \u001b[43mzipfile_factory\u001b[49m\u001b[43m(\u001b[49m\u001b[43mfile\u001b[49m\u001b[43m,\u001b[49m\u001b[43m \u001b[49m\u001b[43mmode\u001b[49m\u001b[38;5;241;43m=\u001b[39;49m\u001b[38;5;124;43m\"\u001b[39;49m\u001b[38;5;124;43mw\u001b[39;49m\u001b[38;5;124;43m\"\u001b[39;49m\u001b[43m,\u001b[49m\u001b[43m \u001b[49m\u001b[43mcompression\u001b[49m\u001b[38;5;241;43m=\u001b[39;49m\u001b[43mcompression\u001b[49m\u001b[43m)\u001b[49m\n\u001b[0;32m    711\u001b[0m \u001b[38;5;28;01mfor\u001b[39;00m key, val \u001b[38;5;129;01min\u001b[39;00m namedict\u001b[38;5;241m.\u001b[39mitems():\n\u001b[0;32m    712\u001b[0m     fname \u001b[38;5;241m=\u001b[39m key \u001b[38;5;241m+\u001b[39m \u001b[38;5;124m'\u001b[39m\u001b[38;5;124m.npy\u001b[39m\u001b[38;5;124m'\u001b[39m\n",
      "File \u001b[1;32md:\\anaconda3\\envs\\test\\lib\\site-packages\\numpy\\lib\\npyio.py:101\u001b[0m, in \u001b[0;36mzipfile_factory\u001b[1;34m(file, *args, **kwargs)\u001b[0m\n\u001b[0;32m     99\u001b[0m \u001b[38;5;28;01mimport\u001b[39;00m \u001b[38;5;21;01mzipfile\u001b[39;00m\n\u001b[0;32m    100\u001b[0m kwargs[\u001b[38;5;124m'\u001b[39m\u001b[38;5;124mallowZip64\u001b[39m\u001b[38;5;124m'\u001b[39m] \u001b[38;5;241m=\u001b[39m \u001b[38;5;28;01mTrue\u001b[39;00m\n\u001b[1;32m--> 101\u001b[0m \u001b[38;5;28;01mreturn\u001b[39;00m zipfile\u001b[38;5;241m.\u001b[39mZipFile(file, \u001b[38;5;241m*\u001b[39margs, \u001b[38;5;241m*\u001b[39m\u001b[38;5;241m*\u001b[39mkwargs)\n",
      "File \u001b[1;32md:\\anaconda3\\envs\\test\\lib\\zipfile.py:1250\u001b[0m, in \u001b[0;36mZipFile.__init__\u001b[1;34m(self, file, mode, compression, allowZip64, compresslevel, strict_timestamps)\u001b[0m\n\u001b[0;32m   1248\u001b[0m \u001b[38;5;28;01mwhile\u001b[39;00m \u001b[38;5;28;01mTrue\u001b[39;00m:\n\u001b[0;32m   1249\u001b[0m     \u001b[38;5;28;01mtry\u001b[39;00m:\n\u001b[1;32m-> 1250\u001b[0m         \u001b[38;5;28mself\u001b[39m\u001b[38;5;241m.\u001b[39mfp \u001b[38;5;241m=\u001b[39m \u001b[43mio\u001b[49m\u001b[38;5;241;43m.\u001b[39;49m\u001b[43mopen\u001b[49m\u001b[43m(\u001b[49m\u001b[43mfile\u001b[49m\u001b[43m,\u001b[49m\u001b[43m \u001b[49m\u001b[43mfilemode\u001b[49m\u001b[43m)\u001b[49m\n\u001b[0;32m   1251\u001b[0m     \u001b[38;5;28;01mexcept\u001b[39;00m \u001b[38;5;167;01mOSError\u001b[39;00m:\n\u001b[0;32m   1252\u001b[0m         \u001b[38;5;28;01mif\u001b[39;00m filemode \u001b[38;5;129;01min\u001b[39;00m modeDict:\n",
      "\u001b[1;31mFileNotFoundError\u001b[0m: [Errno 2] No such file or directory: 'train/train_joint.npz'"
     ]
    }
   ],
   "source": [
    "import numpy as np\n",
    "\n",
    "# 加载数据\n",
    "train_joint = np.load('data/train_joint.npy')  # 形状 (2000, 3, 300, 17, 2)\n",
    "train_label = np.load('data/train_label.npy')  # 形状 (2000,)\n",
    "\n",
    "\n",
    "# train_reshaped = train_joint[:, 1:, :, :, :]\n",
    "# print(train_reshaped.shape)\n",
    "\n",
    "# test_reshaped = test_joint[:, 1:, :, :, :]\n",
    "# print(test_reshaped.shape)\n",
    "\n",
    "train_joint = np.transpose(train_joint, (0,4,2,3,1))\n",
    "\n",
    "\n",
    "# # 调整维度顺序：将 (2000, 3, 300, 17, 2) 变为 (2000, 2, 300, 17, 3)\n",
    "# test_reshaped = np.transpose(test_reshaped, (0, 2, 4, 3, 1))  # 形状变为 (2000, 2, 300, 17, 3)\n",
    "# train_reshaped = np.transpose(train_reshaped, (0, 2, 4, 3, 1))  # 形状变为 (16432, 2, 300, 17, 3)\n",
    "\n",
    "# y_test 和 y_train 保持不变\n",
    "y_train = train_label  # 形状 (2000,)\n",
    "\n",
    "\n",
    "print(train_joint.shape)\n",
    "print(y_train.shape)\n",
    "# 保存为 .npz 文件\n",
    "np.savez('train/train_joint.npz', x_train=train_joint, y_train=y_train)\n",
    "\n",
    "print(\"train_joint.npz 文件已保存\")"
   ]
  },
  {
   "cell_type": "markdown",
   "metadata": {},
   "source": [
    "训练，测试数据集：(2d)"
   ]
  },
  {
   "cell_type": "code",
   "execution_count": 4,
   "metadata": {},
   "outputs": [
    {
     "name": "stdout",
     "output_type": "stream",
     "text": [
      "(16724, 2, 300, 17, 2)\n",
      "(2000, 2, 300, 17, 2)\n",
      "(16724, 300, 2, 17, 2)\n",
      "(2000, 300, 2, 17, 2)\n",
      "V1.npz 文件已保存\n"
     ]
    }
   ],
   "source": [
    "import numpy as np\n",
    "\n",
    "# 加载数据\n",
    "test_joint = np.load('data/val_joint.npy')  # 形状 (2000, 3, 300, 17, 2)\n",
    "test_label = np.load('data/val_label.npy')  # 形状 (2000,)\n",
    "train_joint = np.load('data/train_joint.npy')  # 形状 (16432, 3, 300, 17, 2)\n",
    "train_label = np.load('data/train_label.npy')  # 形状 (16432,)\n",
    "\n",
    "train_reshaped = train_joint[:, [0, 2], :, :, :]\n",
    "print(train_reshaped.shape)\n",
    "\n",
    "test_reshaped = test_joint[:, [0, 2], :, :, :]\n",
    "print(test_reshaped.shape)\n",
    "\n",
    "# test_joint = np.transpose(test_joint, (0,4,2,3,1))\n",
    "# train_joint = np.transpose(train_joint, (0,4,2,3,1))\n",
    "\n",
    "# 调整维度顺序：将 (2000, 3, 300, 17, 2) 变为 (2000, 2, 300, 17, 3)\n",
    "test_reshaped = np.transpose(test_reshaped, (0, 2, 4, 3, 1))  # 形状变为 (2000, 300, 2, 17, 2)\n",
    "train_reshaped = np.transpose(train_reshaped, (0, 2, 4, 3, 1))  # 形状变为 (16432, 300, 2, 17, 2)\n",
    "\n",
    "# y_test 和 y_train 保持不变\n",
    "y_test = test_label  # 形状 (2000,)\n",
    "y_train = train_label  # 形状 (16432,)\n",
    "\n",
    "print(train_reshaped.shape)\n",
    "print(test_reshaped.shape)\n",
    "# 保存为 .npz 文件\n",
    "np.savez('train_2d/train_joint.npz', x_train=train_reshaped, y_train=y_train, x_test=test_reshaped, y_test=y_test)\n",
    "\n",
    "print(\"V1.npz 文件已保存\")\n"
   ]
  },
  {
   "cell_type": "markdown",
   "metadata": {
    "vscode": {
     "languageId": "plaintext"
    }
   },
   "source": [
    "tegcn使用类别：\n",
    "numpy版本会影响读取，使用相同numpy版本产生pkl与运行tegcn (python=3.8.12 numpy==1.22.3)"
   ]
  },
  {
   "cell_type": "code",
   "execution_count": null,
   "metadata": {},
   "outputs": [
    {
     "name": "stdout",
     "output_type": "stream",
     "text": [
      "(16724,)\n"
     ]
    },
    {
     "ename": "ValueError",
     "evalue": "invalid literal for int() with base 10: 'train_0'",
     "output_type": "error",
     "traceback": [
      "\u001b[1;31m---------------------------------------------------------------------------\u001b[0m",
      "\u001b[1;31mValueError\u001b[0m                                Traceback (most recent call last)",
      "Cell \u001b[1;32mIn[2], line 11\u001b[0m\n\u001b[0;32m      9\u001b[0m new_data \u001b[38;5;241m=\u001b[39m np\u001b[38;5;241m.\u001b[39mempty((\u001b[38;5;241m2\u001b[39m, \u001b[38;5;241m16724\u001b[39m), dtype\u001b[38;5;241m=\u001b[39mdata\u001b[38;5;241m.\u001b[39mdtype)\n\u001b[0;32m     10\u001b[0m new_data[\u001b[38;5;241m1\u001b[39m] \u001b[38;5;241m=\u001b[39m data  \u001b[38;5;66;03m# 将原数组赋值给第二个维度\u001b[39;00m\n\u001b[1;32m---> 11\u001b[0m \u001b[43mnew_data\u001b[49m\u001b[43m[\u001b[49m\u001b[38;5;241;43m0\u001b[39;49m\u001b[43m]\u001b[49m \u001b[38;5;241m=\u001b[39m [\u001b[38;5;124m'\u001b[39m\u001b[38;5;124mtrain_\u001b[39m\u001b[38;5;124m'\u001b[39m \u001b[38;5;241m+\u001b[39m \u001b[38;5;28mstr\u001b[39m(i) \u001b[38;5;28;01mfor\u001b[39;00m i \u001b[38;5;129;01min\u001b[39;00m \u001b[38;5;28mrange\u001b[39m(\u001b[38;5;241m16724\u001b[39m)]\n\u001b[0;32m     13\u001b[0m \u001b[38;5;66;03m# new_data[0] = ['test_' + str(i) for i in range(16432)]\u001b[39;00m\n\u001b[0;32m     14\u001b[0m \n\u001b[0;32m     15\u001b[0m \u001b[38;5;66;03m# 保存为 .pkl 文件\u001b[39;00m\n\u001b[0;32m     16\u001b[0m \u001b[38;5;28;01mwith\u001b[39;00m \u001b[38;5;28mopen\u001b[39m(\u001b[38;5;124m'\u001b[39m\u001b[38;5;124mpkl/train_label.pkl\u001b[39m\u001b[38;5;124m'\u001b[39m, \u001b[38;5;124m'\u001b[39m\u001b[38;5;124mwb\u001b[39m\u001b[38;5;124m'\u001b[39m) \u001b[38;5;28;01mas\u001b[39;00m file:\n",
      "\u001b[1;31mValueError\u001b[0m: invalid literal for int() with base 10: 'train_0'"
     ]
    }
   ],
   "source": [
    "import numpy as np\n",
    "import pickle\n",
    "\n",
    "# 读取 .npy 文件\n",
    "data = np.load('data/train_label.npy')  # 假设文件名为 data.npy\n",
    "print(data.shape)\n",
    "\n",
    "# 创建新的形状为 (2, 2000) 的数组\n",
    "new_data = np.empty((2, 16724), dtype=data.dtype)\n",
    "new_data[1] = data  # 将原数组赋值给第二个维度\n",
    "# new_data[0] = ['train_' + str(i) for i in range(16724)]\n",
    "\n",
    "# new_data[0] = ['test_' + str(i) for i in range(16432)]\n",
    "\n",
    "# 保存为 .pkl 文件\n",
    "with open('pkl/train_label.pkl', 'wb') as file:\n",
    "    pickle.dump(new_data, file)\n",
    "\n",
    "print(\"转换完成，已保存为 train_label.pkl\")\n",
    "\n",
    "\n",
    "# 读取 .npy 文件\n",
    "data = np.load('data/val_label.npy')  # 假设文件名为 data.npy\n",
    "print(data.shape)\n",
    "\n",
    "# 创建新的形状为 (2, 2000) 的数组\n",
    "new_data = np.empty((2, 2000), dtype=data.dtype)\n",
    "new_data[1] = data  # 将原数组赋值给第二个维度\n",
    "# new_data[0] = ['test_' + str(i) for i in range(2000)]\n",
    "\n",
    "\n",
    "# new_data[0] = ['test_' + str(i) for i in range(16432)]\n",
    "\n",
    "# 保存为 .pkl 文件\n",
    "with open('pkl/val_label.pkl', 'wb') as file:\n",
    "    pickle.dump(new_data, file)\n",
    "\n",
    "print(\"转换完成，已保存为 val_label.pkl\")\n"
   ]
  },
  {
   "cell_type": "markdown",
   "metadata": {},
   "source": [
    "数据集扩充(反向添加)"
   ]
  },
  {
   "cell_type": "code",
   "execution_count": 1,
   "metadata": {},
   "outputs": [
    {
     "name": "stdout",
     "output_type": "stream",
     "text": [
      "已处理：5.98%\n",
      "已处理：11.96%\n",
      "已处理：17.94%\n",
      "已处理：23.92%\n",
      "已处理：29.90%\n",
      "已处理：35.88%\n",
      "已处理：41.86%\n",
      "已处理：47.84%\n",
      "已处理：53.81%\n",
      "已处理：59.79%\n",
      "已处理：65.77%\n",
      "已处理：71.75%\n",
      "已处理：77.73%\n",
      "已处理：83.71%\n",
      "已处理：89.69%\n",
      "已处理：95.67%\n",
      "已处理：100.00%\n",
      "(20637, 3, 300, 17, 2)\n"
     ]
    }
   ],
   "source": [
    "import numpy as np\n",
    "\n",
    "\n",
    "# label对称组\n",
    "index = [(3, 4), (6, 7), (11, 12), (13, 14), (15, 16), (34, 35), (38, 39), (49, 50), (51, 52), (84, 85),\n",
    "         (102, 103), (104, 105), (106, 107), (108, 109), (112, 113), (119, 120), (144, 145), (153, 154)]\n",
    "\n",
    "# 时间帧倒放\n",
    "def reverse_frame(data_file, label_file):\n",
    "    dataset = np.load(data_file)\n",
    "    labels = np.load(label_file)\n",
    "    length = dataset.shape[0]\n",
    "    count = 0\n",
    "    for data, label in zip(dataset, labels):\n",
    "        for label1, label2 in index:    # 对称label\n",
    "            if label == label1:\n",
    "                sample = np.zeros((3, 300, 17, 2))\n",
    "                zero_start = find_zero_start(data, axis=1)\n",
    "                sample[:, :zero_start, :, :] = data[:, zero_start-1::-1, :, :]  # 仅倒放非零段\n",
    "                dataset = np.append(dataset, [sample], axis=0)\n",
    "                labels = np.append(labels, label2)\n",
    "            elif label == label2:\n",
    "                sample = np.zeros((3, 300, 17, 2))\n",
    "                zero_start = find_zero_start(data, axis=1)\n",
    "                sample[:, :zero_start, :, :] = data[:, zero_start-1::-1, :, :]  # 仅倒放非零段\n",
    "                dataset = np.append(dataset, [sample], axis=0)\n",
    "                labels = np.append(labels, label1)\n",
    "        count += 1\n",
    "        if(count % 1000 == 0 or count == length):\n",
    "            print(f\"已处理：{(count/length)*100:.2f}%\")\n",
    "    return dataset, labels\n",
    "\n",
    "# 截取非零段\n",
    "def find_zero_start(arr, axis=1):\n",
    "    shape = arr.shape\n",
    "    for i in range(shape[axis]):\n",
    "        if np.sum(arr[:, i, :, :]) == 0:\n",
    "            return i\n",
    "    return shape[axis]\n",
    "\n",
    "\n",
    "# if __name__ == '__main__':\n",
    "#     sets = ['bone', 'joint', 'bone_motion', 'joint_motion'] #所需模态\n",
    "#     for set in sets:\n",
    "#         data_file = f\"./data/train_{set}.npy\"  # 训练集data路径\n",
    "#         label_file = \"./data/train_label.npy\"  # 训练集label路径\n",
    "#         data_new, label_new = reverse_frame(data_file, label_file)\n",
    "#         print(data_new.shape)\n",
    "\n",
    "#         # 3D\n",
    "#         data_new = np.transpose(data_new, (0, 4, 2, 3, 1))\n",
    "#         np.savez(f\"./data_new/train_{set}.npz\", x_train=data_new, y_train=label_new)\n",
    "\n",
    "#         # # 2D\n",
    "#         # data_new = np.transpose(data_new, (0, 2, 4, 3, 1))\n",
    "#         # np.savez(f\"../data_new/train_{set}_2d.npz\", x_train=data_new, y_train=label_new)\n",
    "\n",
    "if __name__ == '__main__':\n",
    "    sets = ['joint'] #所需模态\n",
    "    for set in sets:\n",
    "        data_file = f\"./data/train_{set}.npy\"  # 训练集data路径\n",
    "        label_file = \"./data/train_label.npy\"  # 训练集label路径\n",
    "        data_new, label_new = reverse_frame(data_file, label_file)\n",
    "        print(data_new.shape)\n",
    "\n",
    "        # 3D\n",
    "        data_new = np.transpose(data_new, (0, 4, 2, 3, 1))\n",
    "        np.savez(f\"./data_new/train_{set}.npz\", x_train=data_new, y_train=label_new)\n",
    "\n",
    "        # # 2D\n",
    "        # data_new = np.transpose(data_new, (0, 2, 4, 3, 1))\n",
    "        # np.savez(f\"../data_new/train_{set}_2d.npz\", x_train=data_new, y_train=label_new)"
   ]
  },
  {
   "cell_type": "markdown",
   "metadata": {},
   "source": [
    "B数据集处理（test）\n",
    "包括tegcn的类别pkl"
   ]
  },
  {
   "cell_type": "code",
   "execution_count": 2,
   "metadata": {},
   "outputs": [
    {
     "name": "stdout",
     "output_type": "stream",
     "text": [
      "(4307, 3, 300, 17, 2)\n",
      "(4307, 2, 300, 17, 3)\n",
      "(4307,)\n",
      "已保存\n",
      "(4307,)\n",
      "转换完成，已保存为 test_label.pkl\n"
     ]
    }
   ],
   "source": [
    "# 产生3d的B测试集，以及pkl\n",
    "import numpy as np\n",
    "import pickle\n",
    "\n",
    "test_joint = np.load('data/test_joint.npy')  # 形状 (4599, 3, 300, 17, 2)\n",
    "\n",
    "print(test_joint.shape)\n",
    "test_joint = np.transpose(test_joint, (0, 4, 2, 3, 1))\n",
    "print(test_joint.shape)\n",
    "\n",
    "test_label = np.zeros(4307, )\n",
    "print(test_label.shape)\n",
    "\n",
    "np.savez('test/test_joint_B.npz', x_test=test_joint, y_test=test_label)\n",
    "print(\"已保存\")\n",
    "\n",
    "np.save('test/test_label_B.npy', test_label)\n",
    "\n",
    "# 读取 .npy 文件\n",
    "data = np.load('test/test_label_B.npy')  # 假设文件名为 data.npy\n",
    "print(data.shape)\n",
    "\n",
    "# 创建新的形状为 (2, 2000) 的数组\n",
    "new_data = np.empty((2, 4307), dtype=data.dtype)\n",
    "new_data[1] = data  # 将原数组赋值给第二个维度\n",
    "# new_data[0] = ['test_' + str(i) for i in range(2000)]\n",
    "\n",
    "\n",
    "# new_data[0] = ['test_' + str(i) for i in range(16432)]\n",
    "\n",
    "# 保存为 .pkl 文件\n",
    "with open('pkl/test_label_B.pkl', 'wb') as file:\n",
    "    pickle.dump(new_data, file)\n",
    "\n",
    "print(\"转换完成，已保存为 test_label.pkl\")"
   ]
  },
  {
   "cell_type": "code",
   "execution_count": 3,
   "metadata": {},
   "outputs": [
    {
     "name": "stdout",
     "output_type": "stream",
     "text": [
      "(4307, 3, 300, 17, 2)\n",
      "(4307, 3, 300, 17, 2)\n",
      "(4307,)\n",
      "(4307, 2, 300, 17, 2)\n",
      "(4307, 300, 2, 17, 2)\n",
      "已保存\n"
     ]
    }
   ],
   "source": [
    "import numpy as np\n",
    "\n",
    "test_joint = np.load('data/test_joint.npy')  # 形状 (4599, 3, 300, 17, 2)\n",
    "\n",
    "print(test_joint.shape)\n",
    "\n",
    "print(test_joint.shape)\n",
    "\n",
    "test_label = np.zeros(4307, )\n",
    "print(test_label.shape)\n",
    "\n",
    "\n",
    "test_reshaped = test_joint[:, [0, 2], :, :, :]\n",
    "print(test_reshaped.shape)\n",
    "test_reshaped = np.transpose(test_reshaped, (0, 2, 4,3,1))\n",
    "print(test_reshaped.shape)\n",
    "\n",
    "np.savez('test_2d/test_joint_B_2d.npz', x_test=test_reshaped, y_test=test_label)\n",
    "print(\"已保存\")\n",
    "\n",
    "# np.save('data/test_label_B.npy', test_label)"
   ]
  },
  {
   "cell_type": "markdown",
   "metadata": {},
   "source": [
    "单独的测试集A(val)\n"
   ]
  },
  {
   "cell_type": "code",
   "execution_count": 5,
   "metadata": {},
   "outputs": [
    {
     "name": "stdout",
     "output_type": "stream",
     "text": [
      "(2000, 2, 300, 17, 3)\n",
      "(2000,)\n",
      "test_joint.npz 文件已保存\n"
     ]
    }
   ],
   "source": [
    "import numpy as np\n",
    "\n",
    "# 加载数据\n",
    "test_joint = np.load('data/val_joint.npy')  # 形状 (2000, 3, 300, 17, 2)\n",
    "test_label = np.load('data/val_label.npy')  # 形状 (2000,)\n",
    "\n",
    "\n",
    "# train_reshaped = train_joint[:, 1:, :, :, :]\n",
    "# print(train_reshaped.shape)\n",
    "\n",
    "# test_reshaped = test_joint[:, 1:, :, :, :]\n",
    "# print(test_reshaped.shape)\n",
    "\n",
    "test_joint = np.transpose(test_joint, (0,4,2,3,1))\n",
    "\n",
    "\n",
    "# # 调整维度顺序：将 (2000, 3, 300, 17, 2) 变为 (2000, 2, 300, 17, 3)\n",
    "# test_reshaped = np.transpose(test_reshaped, (0, 2, 4, 3, 1))  # 形状变为 (2000, 2, 300, 17, 3)\n",
    "# train_reshaped = np.transpose(train_reshaped, (0, 2, 4, 3, 1))  # 形状变为 (16432, 2, 300, 17, 3)\n",
    "\n",
    "# y_test 和 y_train 保持不变\n",
    "y_test = test_label  # 形状 (2000,)\n",
    "\n",
    "\n",
    "print(test_joint.shape)\n",
    "print(y_test.shape)\n",
    "# 保存为 .npz 文件\n",
    "np.savez('val/test_joint.npz', x_test=test_joint, y_test=y_test)\n",
    "\n",
    "print(\"test_joint.npz 文件已保存\")"
   ]
  }
 ],
 "metadata": {
  "kernelspec": {
   "display_name": "myconda",
   "language": "python",
   "name": "myconda"
  },
  "language_info": {
   "codemirror_mode": {
    "name": "ipython",
    "version": 3
   },
   "file_extension": ".py",
   "mimetype": "text/x-python",
   "name": "python",
   "nbconvert_exporter": "python",
   "pygments_lexer": "ipython3",
   "version": "3.10.12"
  }
 },
 "nbformat": 4,
 "nbformat_minor": 4
}
