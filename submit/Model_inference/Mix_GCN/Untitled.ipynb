{
 "cells": [
  {
   "cell_type": "code",
   "execution_count": 4,
   "id": "18d0ae16-4624-4128-bcbc-84754528d976",
   "metadata": {
    "tags": []
   },
   "outputs": [
    {
     "name": "stdout",
     "output_type": "stream",
     "text": [
      "done\n"
     ]
    }
   ],
   "source": [
    "import numpy as np\n",
    "\n",
    "dataset = np.load('/mnt/ICMEW2024-Track10/Model_inference/Mix_GCN/dataset/save_3d_pose/train_joint.npz')\n",
    "\n",
    "data = dataset['x_train']\n",
    "label = dataset['y_train']\n",
    "\n",
    "np.savez('./dataset/save_3d_pose/test_joint.npz', x_test=data, y_test=label)\n",
    "print(\"done\")"
   ]
  },
  {
   "cell_type": "code",
   "execution_count": null,
   "id": "3fd0d38b-133a-4b76-9a4e-3a510b018ba6",
   "metadata": {},
   "outputs": [],
   "source": []
  }
 ],
 "metadata": {
  "kernelspec": {
   "display_name": "myconda",
   "language": "python",
   "name": "myconda"
  },
  "language_info": {
   "codemirror_mode": {
    "name": "ipython",
    "version": 3
   },
   "file_extension": ".py",
   "mimetype": "text/x-python",
   "name": "python",
   "nbconvert_exporter": "python",
   "pygments_lexer": "ipython3",
   "version": "3.10.12"
  }
 },
 "nbformat": 4,
 "nbformat_minor": 5
}
