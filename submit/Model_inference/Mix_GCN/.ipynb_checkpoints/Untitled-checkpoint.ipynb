{
 "cells": [
  {
   "cell_type": "code",
   "execution_count": null,
   "id": "18d0ae16-4624-4128-bcbc-84754528d976",
   "metadata": {},
   "outputs": [],
   "source": [
    "import nmup as np\n",
    "\n",
    "dataset = np.load('/mnt/ICMEW2024-Track10/Model_inference/Mix_GCN/dataset/save_3d_pose/train_joint.npz')\n",
    "\n",
    "data = dataset['x_train']\n",
    "label = dataset['y_train']\n",
    "\n",
    "np.savez('./dataset/save_3d_pose/test_joint.npz', x_test=data, y_test=label)"
   ]
  }
 ],
 "metadata": {
  "kernelspec": {
   "display_name": "myconda",
   "language": "python",
   "name": "myconda"
  },
  "language_info": {
   "codemirror_mode": {
    "name": "ipython",
    "version": 3
   },
   "file_extension": ".py",
   "mimetype": "text/x-python",
   "name": "python",
   "nbconvert_exporter": "python",
   "pygments_lexer": "ipython3",
   "version": "3.10.12"
  }
 },
 "nbformat": 4,
 "nbformat_minor": 5
}
